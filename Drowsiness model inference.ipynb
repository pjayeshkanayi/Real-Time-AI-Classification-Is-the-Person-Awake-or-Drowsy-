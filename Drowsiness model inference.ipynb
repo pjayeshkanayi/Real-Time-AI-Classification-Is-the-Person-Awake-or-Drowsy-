{
 "cells": [
  {
   "cell_type": "code",
   "execution_count": 1,
   "id": "0ae86601-acce-4249-8e41-7d817a090c3a",
   "metadata": {},
   "outputs": [
    {
     "name": "stdout",
     "output_type": "stream",
     "text": [
      "Requirement already satisfied: opencv-python in c:\\users\\admin\\anaconda3\\lib\\site-packages (4.11.0.86)\n",
      "Requirement already satisfied: numpy>=1.21.2 in c:\\users\\admin\\anaconda3\\lib\\site-packages (from opencv-python) (1.26.4)\n"
     ]
    }
   ],
   "source": [
    "!pip install opencv-python"
   ]
  },
  {
   "cell_type": "code",
   "execution_count": 19,
   "id": "5533ef8a-c06c-487a-a838-26ebcb4e814b",
   "metadata": {},
   "outputs": [
    {
     "name": "stderr",
     "output_type": "stream",
     "text": [
      "WARNING:absl:Compiled the loaded model, but the compiled metrics have yet to be built. `model.compile_metrics` will be empty until you train or evaluate the model.\n"
     ]
    }
   ],
   "source": [
    "import os\n",
    "import cv2\n",
    "import numpy as np\n",
    "from tensorflow.keras.models import load_model\n",
    "from tensorflow.keras.preprocessing import image\n",
    "\n",
    "# Load model and class labels\n",
    "model = load_model(r\"C:\\Users\\Admin\\AwakeVsDrowsiness\\AwakeVsDrowsiness.h5\")\n",
    "class_labels = ['AWAKE', 'SLEEPY']\n",
    "\n",
    "# Get all image paths\n",
    "img_dir = r\"C:\\Users\\Admin\\AwakeVsDrowsiness\\Data\\Challenge\"\n",
    "img_files = [f for f in os.listdir(img_dir) if f.lower().endswith(('.jpg', '.jpeg', '.png'))]\n",
    "\n",
    "# Predict all images\n",
    "predictions = []\n",
    "for file in img_files:\n",
    "    path = os.path.join(img_dir, file)\n",
    "    img = image.load_img(path, target_size=(150, 150))\n",
    "    arr = image.img_to_array(img) / 255.0\n",
    "    arr = np.expand_dims(arr, axis=0)\n",
    "    pred = model.predict(arr, verbose=0)[0]\n",
    "    predictions.append((file, pred))\n",
    "\n",
    "# Sort by SLEEPY probability (descending)\n",
    "predictions.sort(key=lambda x: x[1][1], reverse=True)\n",
    "\n",
    "# Show top 3 \"sleepiest\" images\n",
    "for file, pred in predictions[:3]:\n",
    "    path = os.path.join(img_dir, file)\n",
    "    img = cv2.imread(path)\n",
    "    img = cv2.resize(img, (400, 400))\n",
    "\n",
    "    awake, sleepy = pred[0] * 100, pred[1] * 100\n",
    "    label = f\"AWAKE: {awake:.1f}%, SLEEPY: {sleepy:.1f}%\"\n",
    "    color = (0, 255, 0) if awake >= sleepy else (0, 0, 255)\n",
    "\n",
    "    cv2.putText(img, label, (10, 30), cv2.FONT_HERSHEY_SIMPLEX, 0.8, color, 2)\n",
    "    cv2.imshow(file, img)\n",
    "\n",
    "cv2.waitKey(0)\n",
    "cv2.destroyAllWindows()\n"
   ]
  },
  {
   "cell_type": "code",
   "execution_count": 21,
   "id": "9ad7da12-94cf-48db-9d74-2c824c044926",
   "metadata": {},
   "outputs": [
    {
     "name": "stderr",
     "output_type": "stream",
     "text": [
      "WARNING:absl:Compiled the loaded model, but the compiled metrics have yet to be built. `model.compile_metrics` will be empty until you train or evaluate the model.\n"
     ]
    }
   ],
   "source": [
    "import cv2\n",
    "import numpy as np\n",
    "from tensorflow.keras.models import load_model\n",
    "\n",
    "# Load model and labels\n",
    "model = load_model(r\"C:\\Users\\Admin\\AwakeVsDrowsiness\\AwakeVsDrowsiness.h5\")\n",
    "labels = ['AWAKE', 'SLEEPY']\n",
    "\n",
    "# Load video\n",
    "cap = cv2.VideoCapture(r\"C:\\Users\\Admin\\AwakeVsDrowsiness\\Data\\Challenge\\Preview.mp4\")\n",
    "\n",
    "frame_interval = 30  # Predict every ~1 second\n",
    "frame_count = 0\n",
    "delay = 50  # ~20 FPS display speed\n",
    "\n",
    "last_text = \"\"\n",
    "last_color = (0, 255, 0)\n",
    "\n",
    "while cap.isOpened():\n",
    "    ret, frame = cap.read()\n",
    "    if not ret:\n",
    "        break\n",
    "\n",
    "    if frame_count % frame_interval == 0:\n",
    "        resized = cv2.resize(frame, (150, 150)) / 255.0\n",
    "        input_arr = np.expand_dims(resized, axis=0)\n",
    "        pred = model.predict(input_arr, verbose=0)[0]\n",
    "        awake, sleepy = pred[0] * 100, pred[1] * 100\n",
    "\n",
    "        last_text = f\"AWAKE: {awake:.1f}%, SLEEPY: {sleepy:.1f}%\"\n",
    "        last_color = (0, 255, 0) if awake >= sleepy else (0, 0, 255)\n",
    "\n",
    "    # Annotate frame\n",
    "    display = frame.copy()\n",
    "    font, scale, thick = cv2.FONT_HERSHEY_SIMPLEX, 1.2, 2\n",
    "    text_size, _ = cv2.getTextSize(last_text, font, scale, thick)\n",
    "    w, h = text_size\n",
    "    cv2.rectangle(display, (10, 10), (30 + w, 30 + h), last_color, -1)\n",
    "    cv2.putText(display, last_text, (20, 40 + h // 2), font, scale, (255, 255, 255), thick)\n",
    "\n",
    "    cv2.imshow(\"Driver Drowsiness Detection\", display)\n",
    "    if cv2.waitKey(delay) & 0xFF == ord('q'):\n",
    "        break\n",
    "\n",
    "    frame_count += 1\n",
    "\n",
    "cap.release()\n",
    "cv2.destroyAllWindows()\n"
   ]
  },
  {
   "cell_type": "code",
   "execution_count": null,
   "id": "7446eb62-24e0-4e38-9c84-9de586b5b172",
   "metadata": {},
   "outputs": [],
   "source": []
  }
 ],
 "metadata": {
  "kernelspec": {
   "display_name": "Python 3 (ipykernel)",
   "language": "python",
   "name": "python3"
  },
  "language_info": {
   "codemirror_mode": {
    "name": "ipython",
    "version": 3
   },
   "file_extension": ".py",
   "mimetype": "text/x-python",
   "name": "python",
   "nbconvert_exporter": "python",
   "pygments_lexer": "ipython3",
   "version": "3.12.7"
  }
 },
 "nbformat": 4,
 "nbformat_minor": 5
}
